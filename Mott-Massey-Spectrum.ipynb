{
 "cells": [
  {
   "cell_type": "code",
   "execution_count": 1,
   "id": "283f1279",
   "metadata": {},
   "outputs": [],
   "source": [
    "import numpy as np\n",
    "import matplotlib.pyplot as plt\n",
    "\n",
    "from constants import MU, BETA4\n",
    "from mottmassey import mm_potential\n",
    "import utility\n",
    "import bind\n",
    "import bound_states as bs\n",
    "\n",
    "plt.style.use('science')"
   ]
  },
  {
   "cell_type": "markdown",
   "id": "4d49c584",
   "metadata": {},
   "source": [
    "It's easier to get high-precision results from the coordinate-space methods, but we need to start with reasonable guesses for the binding energies. We'll do a quick momentum-space calculation to obtain these guesses."
   ]
  },
  {
   "cell_type": "code",
   "execution_count": 2,
   "id": "4a0dca7e",
   "metadata": {},
   "outputs": [],
   "source": [
    "R = 1.5\n",
    "qmax = 10*2/R\n",
    "q, wq = utility.log_mesh(0, qmax, 200)\n",
    "r, wr = utility.log_mesh(0, 10*BETA4, 2000)\n",
    "\n",
    "v_tilde = utility.ft_matrix_gen(mm_potential, 0, 0, q, r, wr)"
   ]
  },
  {
   "cell_type": "code",
   "execution_count": 10,
   "id": "d3605655",
   "metadata": {},
   "outputs": [
    {
     "data": {
      "text/plain": [
       "array([  4.56419309,   5.52298913,   7.01598749,   9.59237563,\n",
       "        14.85168553,  29.37677257, 105.93347418])"
      ]
     },
     "execution_count": 10,
     "metadata": {},
     "output_type": "execute_result"
    }
   ],
   "source": [
    "spec_mm = bind.spectrum(v_tilde, 0, 0, q, wq)[::-1]\n",
    "gamma_mm = np.sqrt(2*MU*-spec_mm)\n",
    "r0_mm = -1/gamma_mm * np.log(1e-11)\n",
    "r0_mm"
   ]
  },
  {
   "cell_type": "code",
   "execution_count": 14,
   "id": "254aa3b3",
   "metadata": {},
   "outputs": [
    {
     "data": {
      "text/plain": [
       "(4.564193091104943, -0.06476101809868819, -0.0647609191295247)"
      ]
     },
     "execution_count": 14,
     "metadata": {},
     "output_type": "execute_result"
    }
   ],
   "source": [
    "index = 0\n",
    "r0 = r0_mm[index]\n",
    "e2 = bs.bound_state(mm_potential, spec_mm[index], r0, endpts=[5e-5, 1.1*r0])\n",
    "\n",
    "r0, e2, spec_mm[index]"
   ]
  },
  {
   "cell_type": "code",
   "execution_count": 15,
   "id": "44864744",
   "metadata": {},
   "outputs": [
    {
     "name": "stdout",
     "output_type": "stream",
     "text": [
      "0.01 -0.06476101809868819\n",
      "0.008944444444444444 -0.06476101809868819\n",
      "0.00788888888888889 -0.06476101809868819\n",
      "0.006833333333333334 -0.06476101809868819\n",
      "0.005777777777777778 -0.06476101809868819\n",
      "0.004722222222222223 -0.06476101809868819\n",
      "0.003666666666666667 -0.06476101809868819\n",
      "0.002611111111111112 -0.06476101809868819\n",
      "0.0015555555555555566 -0.06476101809868819\n",
      "0.0005 -0.06476101809868819\n"
     ]
    }
   ],
   "source": [
    "for i in np.linspace(0.01, 0.0005, 10):\n",
    "    print(\n",
    "        i, bs.bound_state(mm_potential, spec_mm[index], r0, endpts=[i, 100])\n",
    "    )"
   ]
  },
  {
   "cell_type": "code",
   "execution_count": 17,
   "id": "dce07906",
   "metadata": {},
   "outputs": [],
   "source": [
    "u1 = bs.normalized_wave_function(mm_potential, spec_mm[index], r0)\n",
    "u2 = bs.normalized_wave_function(mm_potential, e2, r0)\n",
    "\n",
    "r, wr = bs.normalization_r_mesh(r0)"
   ]
  },
  {
   "cell_type": "code",
   "execution_count": 21,
   "id": "61760ff4",
   "metadata": {},
   "outputs": [
    {
     "data": {
      "image/png": "[encoded data removed]",
      "text/plain": [
       "<Figure size 700x525 with 1 Axes>"
      ]
     },
     "metadata": {},
     "output_type": "display_data"
    }
   ],
   "source": [
    "fig, ax = plt.subplots(dpi=200)\n",
    "fig.patch.set_facecolor('white')\n",
    "\n",
    "\n",
    "ax.plot(r, u2, label=r'$r$')\n",
    "ax.plot(r, u1, label=r'$p$')\n",
    "\n",
    "ax.legend()\n",
    "ax.set_xlabel(r'$r$')\n",
    "ax.set_ylabel(r'$u$');"
   ]
  },
  {
   "cell_type": "code",
   "execution_count": 23,
   "id": "6d8ebff1",
   "metadata": {},
   "outputs": [],
   "source": [
    "spec_mm_1 = np.array([])\n",
    "\n",
    "for (en, r0) in zip(spec_mm, r0_mm):\n",
    "    spec_mm_1 = np.append(spec_mm_1, bs.bound_state(mm_potential, en, r0))"
   ]
  },
  {
   "cell_type": "code",
   "execution_count": 24,
   "id": "280c14d8",
   "metadata": {},
   "outputs": [
    {
     "name": "stdout",
     "output_type": "stream",
     "text": [
      "-0.06476092  -0.06476102\n",
      "-0.04422753  -0.04422778\n",
      "-0.02740712  -0.02740751\n",
      "-0.01466185  -0.01466227\n",
      "-0.00611631  -0.00611664\n",
      "-0.00156327  -0.00156342\n",
      "-0.00012022  -0.00012025\n"
     ]
    }
   ],
   "source": [
    "for (x, y) in zip(spec_mm, spec_mm_1):\n",
    "    print(f'{x:.8f}  {y:.8f}')"
   ]
  },
  {
   "cell_type": "code",
   "execution_count": 26,
   "id": "4cc09216",
   "metadata": {},
   "outputs": [],
   "source": [
    "np.savetxt('datfiles/spectra/spectrum_Mott_Massey.txt', spec_mm_1)"
   ]
  },
  {
   "cell_type": "code",
   "execution_count": null,
   "id": "c9e0f0dc",
   "metadata": {},
   "outputs": [],
   "source": []
  }
 ],
 "metadata": {
  "kernelspec": {
   "display_name": "Python 3 (ipykernel)",
   "language": "python",
   "name": "python3"
  },
  "language_info": {
   "codemirror_mode": {
    "name": "ipython",
    "version": 3
   },
   "file_extension": ".py",
   "mimetype": "text/x-python",
   "name": "python",
   "nbconvert_exporter": "python",
   "pygments_lexer": "ipython3",
   "version": "3.10.1"
  }
 },
 "nbformat": 4,
 "nbformat_minor": 5
}
